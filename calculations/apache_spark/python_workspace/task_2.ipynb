{
 "cells": [
  {
   "cell_type": "code",
   "execution_count": 1,
   "id": "196998cc",
   "metadata": {},
   "outputs": [],
   "source": [
    "import pyspark"
   ]
  },
  {
   "cell_type": "code",
   "execution_count": 2,
   "id": "06fe4138",
   "metadata": {},
   "outputs": [],
   "source": [
    "conf = pyspark.SparkConf()\n",
    "conf.setMaster('spark://spark-master:7077')\n",
    "spark_context = pyspark.SparkContext(conf=conf)"
   ]
  },
  {
   "cell_type": "code",
   "execution_count": 3,
   "id": "042a8364",
   "metadata": {},
   "outputs": [],
   "source": [
    "reviews = spark_context.textFile('/user-data/combined/results_with_helpful_data/part-00000')"
   ]
  },
  {
   "cell_type": "code",
   "execution_count": 4,
   "id": "cdd91241",
   "metadata": {},
   "outputs": [],
   "source": [
    "products = spark_context.textFile('/user-data/combined/products.csv')"
   ]
  },
  {
   "cell_type": "code",
   "execution_count": 5,
   "id": "82737f51",
   "metadata": {},
   "outputs": [],
   "source": [
    "def validate_row(key, sub_key):\n",
    "    return key in sub_key"
   ]
  },
  {
   "cell_type": "code",
   "execution_count": 6,
   "id": "89d16eb1",
   "metadata": {},
   "outputs": [],
   "source": [
    "header = products.first()"
   ]
  },
  {
   "cell_type": "code",
   "execution_count": 7,
   "id": "117fb6b9",
   "metadata": {},
   "outputs": [],
   "source": [
    "data = products.filter(lambda row: row != header) \\\n",
    "    .map(lambda line: line.split(\",\")) \\\n",
    "    .filter(lambda line: len(line) > 8) \\\n",
    "    .filter(lambda line: validate_row(line[0], line[1]))"
   ]
  },
  {
   "cell_type": "code",
   "execution_count": null,
   "id": "edbfbca1",
   "metadata": {
    "pycharm": {
     "is_executing": true,
     "name": "#%%\n"
    }
   },
   "outputs": [],
   "source": [
    "data.take(data.count())"
   ]
  }
 ],
 "metadata": {
  "kernelspec": {
   "display_name": "Python 3",
   "language": "python",
   "name": "python3"
  },
  "language_info": {
   "codemirror_mode": {
    "name": "ipython",
    "version": 3
   },
   "file_extension": ".py",
   "mimetype": "text/x-python",
   "name": "python",
   "nbconvert_exporter": "python",
   "pygments_lexer": "ipython3",
   "version": "3.6.9"
  }
 },
 "nbformat": 4,
 "nbformat_minor": 5
}