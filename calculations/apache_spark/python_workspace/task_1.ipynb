{
 "cells": [
  {
   "cell_type": "code",
   "execution_count": 1,
   "id": "c4d8d5fa",
   "metadata": {},
   "outputs": [],
   "source": [
    "import pyspark"
   ]
  },
  {
   "cell_type": "code",
   "execution_count": 2,
   "id": "d92b2270",
   "metadata": {},
   "outputs": [],
   "source": [
    "conf = pyspark.SparkConf()\n",
    "conf.setMaster('spark://spark-master:7077')\n",
    "spark_context = pyspark.SparkContext(conf=conf)"
   ]
  },
  {
   "cell_type": "code",
   "execution_count": 3,
   "id": "bad4579a",
   "metadata": {},
   "outputs": [],
   "source": [
    "data = spark_context.textFile('/user-data/combined/reviews.csv')"
   ]
  },
  {
   "cell_type": "code",
   "execution_count": null,
   "id": "8a897c4f",
   "metadata": {},
   "outputs": [],
   "source": [
    "header_data = data.first()"
   ]
  },
  {
   "cell_type": "code",
   "execution_count": null,
   "id": "864dc600",
   "metadata": {},
   "outputs": [],
   "source": [
    " def calculate_weight(helpful_yes, helpful_no):\n",
    "    return helpful_yes / (helpful_yes + helpful_no)"
   ]
  },
  {
   "cell_type": "code",
   "execution_count": null,
   "id": "e0b0de70",
   "metadata": {},
   "outputs": [],
   "source": [
    "def helpful_data_is_digits(value1, value2):\n",
    "    try:\n",
    "        float(value1)\n",
    "        float(value2)\n",
    "        return True\n",
    "    except ValueError:\n",
    "        return False"
   ]
  },
  {
   "cell_type": "code",
   "execution_count": null,
   "id": "58758519",
   "metadata": {},
   "outputs": [],
   "source": [
    "def heplful_data_is_valid(value1, value2):\n",
    "    if not helpful_data_is_digits(value1, value2):\n",
    "        return False\n",
    "    return float(value1) > 0 and float(value2) > 0"
   ]
  },
  {
   "cell_type": "code",
   "execution_count": null,
   "id": "02dc57c5",
   "metadata": {},
   "outputs": [],
   "source": [
    "result_data = data.filter(lambda row: row != header_data) \\\n",
    "    .map(lambda line: line.split(\",\")) \\\n",
    "    .filter(lambda line: len(line) > 5) \\\n",
    "    .filter(lambda line: line[4].isdigit()) \\\n",
    "    .filter(lambda line: heplful_data_is_valid(line[6], line[7])) \\\n",
    "    .map(lambda line: (line[1], int(line[4]) * calculate_weight(float(line[6]), float(line[7])))) \\\n",
    "    .map(lambda line: (line[0], (line[1], 1))) \\\n",
    "    .reduceByKey(lambda val1, val2: (val1[0] + val2[0], val1[1] + val2[1])) \\\n",
    "    .mapValues(lambda x: x[0] / x[1]) "
   ]
  },
  {
   "cell_type": "code",
   "execution_count": null,
   "id": "b243d19b",
   "metadata": {
    "pycharm": {
     "name": "#%%\n"
    }
   },
   "outputs": [],
   "source": [
    "result_data.coalesce(1).saveAsTextFile('/user-data/combined/results_with_helpful_data')"
   ]
  },
  {
   "cell_type": "code",
   "execution_count": null,
   "id": "7b20e562",
   "metadata": {},
   "outputs": [],
   "source": []
  }
 ],
 "metadata": {
  "kernelspec": {
   "display_name": "Python 3",
   "language": "python",
   "name": "python3"
  },
  "language_info": {
   "codemirror_mode": {
    "name": "ipython",
    "version": 3
   },
   "file_extension": ".py",
   "mimetype": "text/x-python",
   "name": "python",
   "nbconvert_exporter": "python",
   "pygments_lexer": "ipython3",
   "version": "3.6.9"
  }
 },
 "nbformat": 4,
 "nbformat_minor": 5
}